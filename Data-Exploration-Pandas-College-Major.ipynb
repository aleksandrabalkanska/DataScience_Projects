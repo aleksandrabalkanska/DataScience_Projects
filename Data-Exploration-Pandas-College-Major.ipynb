{
 "cells": [
  {
   "cell_type": "code",
   "execution_count": 64,
   "id": "32460421",
   "metadata": {},
   "outputs": [],
   "source": [
    "import pandas as pd"
   ]
  },
  {
   "cell_type": "code",
   "execution_count": 148,
   "id": "c8ec3891",
   "metadata": {},
   "outputs": [
    {
     "data": {
      "text/html": [
       "<div>\n",
       "<style scoped>\n",
       "    .dataframe tbody tr th:only-of-type {\n",
       "        vertical-align: middle;\n",
       "    }\n",
       "\n",
       "    .dataframe tbody tr th {\n",
       "        vertical-align: top;\n",
       "    }\n",
       "\n",
       "    .dataframe thead th {\n",
       "        text-align: right;\n",
       "    }\n",
       "</style>\n",
       "<table border=\"1\" class=\"dataframe\">\n",
       "  <thead>\n",
       "    <tr style=\"text-align: right;\">\n",
       "      <th></th>\n",
       "      <th>Undergraduate Major</th>\n",
       "      <th>Starting Median Salary</th>\n",
       "      <th>Mid-Career Median Salary</th>\n",
       "      <th>Mid-Career 10th Percentile Salary</th>\n",
       "      <th>Mid-Career 90th Percentile Salary</th>\n",
       "      <th>Group</th>\n",
       "    </tr>\n",
       "  </thead>\n",
       "  <tbody>\n",
       "    <tr>\n",
       "      <th>0</th>\n",
       "      <td>Accounting</td>\n",
       "      <td>46,000.00</td>\n",
       "      <td>77,100.00</td>\n",
       "      <td>42,200.00</td>\n",
       "      <td>152,000.00</td>\n",
       "      <td>Business</td>\n",
       "    </tr>\n",
       "    <tr>\n",
       "      <th>1</th>\n",
       "      <td>Aerospace Engineering</td>\n",
       "      <td>57,700.00</td>\n",
       "      <td>101,000.00</td>\n",
       "      <td>64,300.00</td>\n",
       "      <td>161,000.00</td>\n",
       "      <td>STEM</td>\n",
       "    </tr>\n",
       "    <tr>\n",
       "      <th>2</th>\n",
       "      <td>Agriculture</td>\n",
       "      <td>42,600.00</td>\n",
       "      <td>71,900.00</td>\n",
       "      <td>36,300.00</td>\n",
       "      <td>150,000.00</td>\n",
       "      <td>Business</td>\n",
       "    </tr>\n",
       "  </tbody>\n",
       "</table>\n",
       "</div>"
      ],
      "text/plain": [
       "     Undergraduate Major  Starting Median Salary  Mid-Career Median Salary  \\\n",
       "0             Accounting               46,000.00                 77,100.00   \n",
       "1  Aerospace Engineering               57,700.00                101,000.00   \n",
       "2            Agriculture               42,600.00                 71,900.00   \n",
       "\n",
       "   Mid-Career 10th Percentile Salary  Mid-Career 90th Percentile Salary  \\\n",
       "0                          42,200.00                         152,000.00   \n",
       "1                          64,300.00                         161,000.00   \n",
       "2                          36,300.00                         150,000.00   \n",
       "\n",
       "      Group  \n",
       "0  Business  \n",
       "1      STEM  \n",
       "2  Business  "
      ]
     },
     "execution_count": 148,
     "metadata": {},
     "output_type": "execute_result"
    }
   ],
   "source": [
    "df = pd.read_csv(\"salaries_by_college_major.csv\")\n",
    "df.head(3)"
   ]
  },
  {
   "cell_type": "markdown",
   "id": "5eb7925a",
   "metadata": {},
   "source": [
    "## Data Exploration and Data Cleaning "
   ]
  },
  {
   "cell_type": "code",
   "execution_count": 6,
   "id": "cf0e94b2",
   "metadata": {},
   "outputs": [
    {
     "data": {
      "text/plain": [
       "(51, 6)"
      ]
     },
     "execution_count": 6,
     "metadata": {},
     "output_type": "execute_result"
    }
   ],
   "source": [
    "df.shape"
   ]
  },
  {
   "cell_type": "code",
   "execution_count": 7,
   "id": "cf739f20",
   "metadata": {},
   "outputs": [
    {
     "data": {
      "text/plain": [
       "Index(['Undergraduate Major', 'Starting Median Salary',\n",
       "       'Mid-Career Median Salary', 'Mid-Career 10th Percentile Salary',\n",
       "       'Mid-Career 90th Percentile Salary', 'Group'],\n",
       "      dtype='object')"
      ]
     },
     "execution_count": 7,
     "metadata": {},
     "output_type": "execute_result"
    }
   ],
   "source": [
    "df.columns"
   ]
  },
  {
   "cell_type": "code",
   "execution_count": 9,
   "id": "e38c8a22",
   "metadata": {},
   "outputs": [
    {
     "data": {
      "text/html": [
       "<div>\n",
       "<style scoped>\n",
       "    .dataframe tbody tr th:only-of-type {\n",
       "        vertical-align: middle;\n",
       "    }\n",
       "\n",
       "    .dataframe tbody tr th {\n",
       "        vertical-align: top;\n",
       "    }\n",
       "\n",
       "    .dataframe thead th {\n",
       "        text-align: right;\n",
       "    }\n",
       "</style>\n",
       "<table border=\"1\" class=\"dataframe\">\n",
       "  <thead>\n",
       "    <tr style=\"text-align: right;\">\n",
       "      <th></th>\n",
       "      <th>Undergraduate Major</th>\n",
       "      <th>Starting Median Salary</th>\n",
       "      <th>Mid-Career Median Salary</th>\n",
       "      <th>Mid-Career 10th Percentile Salary</th>\n",
       "      <th>Mid-Career 90th Percentile Salary</th>\n",
       "      <th>Group</th>\n",
       "    </tr>\n",
       "  </thead>\n",
       "  <tbody>\n",
       "    <tr>\n",
       "      <th>46</th>\n",
       "      <td>False</td>\n",
       "      <td>False</td>\n",
       "      <td>False</td>\n",
       "      <td>False</td>\n",
       "      <td>False</td>\n",
       "      <td>False</td>\n",
       "    </tr>\n",
       "    <tr>\n",
       "      <th>47</th>\n",
       "      <td>False</td>\n",
       "      <td>False</td>\n",
       "      <td>False</td>\n",
       "      <td>False</td>\n",
       "      <td>False</td>\n",
       "      <td>False</td>\n",
       "    </tr>\n",
       "    <tr>\n",
       "      <th>48</th>\n",
       "      <td>False</td>\n",
       "      <td>False</td>\n",
       "      <td>False</td>\n",
       "      <td>False</td>\n",
       "      <td>False</td>\n",
       "      <td>False</td>\n",
       "    </tr>\n",
       "    <tr>\n",
       "      <th>49</th>\n",
       "      <td>False</td>\n",
       "      <td>False</td>\n",
       "      <td>False</td>\n",
       "      <td>False</td>\n",
       "      <td>False</td>\n",
       "      <td>False</td>\n",
       "    </tr>\n",
       "    <tr>\n",
       "      <th>50</th>\n",
       "      <td>False</td>\n",
       "      <td>True</td>\n",
       "      <td>True</td>\n",
       "      <td>True</td>\n",
       "      <td>True</td>\n",
       "      <td>True</td>\n",
       "    </tr>\n",
       "  </tbody>\n",
       "</table>\n",
       "</div>"
      ],
      "text/plain": [
       "    Undergraduate Major  Starting Median Salary  Mid-Career Median Salary  \\\n",
       "46                False                   False                     False   \n",
       "47                False                   False                     False   \n",
       "48                False                   False                     False   \n",
       "49                False                   False                     False   \n",
       "50                False                    True                      True   \n",
       "\n",
       "    Mid-Career 10th Percentile Salary  Mid-Career 90th Percentile Salary  \\\n",
       "46                              False                              False   \n",
       "47                              False                              False   \n",
       "48                              False                              False   \n",
       "49                              False                              False   \n",
       "50                               True                               True   \n",
       "\n",
       "    Group  \n",
       "46  False  \n",
       "47  False  \n",
       "48  False  \n",
       "49  False  \n",
       "50   True  "
      ]
     },
     "execution_count": 9,
     "metadata": {},
     "output_type": "execute_result"
    }
   ],
   "source": [
    "df.isna().tail()"
   ]
  },
  {
   "cell_type": "code",
   "execution_count": 10,
   "id": "b22d0e38",
   "metadata": {
    "collapsed": true
   },
   "outputs": [
    {
     "data": {
      "text/html": [
       "<div>\n",
       "<style scoped>\n",
       "    .dataframe tbody tr th:only-of-type {\n",
       "        vertical-align: middle;\n",
       "    }\n",
       "\n",
       "    .dataframe tbody tr th {\n",
       "        vertical-align: top;\n",
       "    }\n",
       "\n",
       "    .dataframe thead th {\n",
       "        text-align: right;\n",
       "    }\n",
       "</style>\n",
       "<table border=\"1\" class=\"dataframe\">\n",
       "  <thead>\n",
       "    <tr style=\"text-align: right;\">\n",
       "      <th></th>\n",
       "      <th>Undergraduate Major</th>\n",
       "      <th>Starting Median Salary</th>\n",
       "      <th>Mid-Career Median Salary</th>\n",
       "      <th>Mid-Career 10th Percentile Salary</th>\n",
       "      <th>Mid-Career 90th Percentile Salary</th>\n",
       "      <th>Group</th>\n",
       "    </tr>\n",
       "  </thead>\n",
       "  <tbody>\n",
       "    <tr>\n",
       "      <th>45</th>\n",
       "      <td>Political Science</td>\n",
       "      <td>40800.0</td>\n",
       "      <td>78200.0</td>\n",
       "      <td>41200.0</td>\n",
       "      <td>168000.0</td>\n",
       "      <td>HASS</td>\n",
       "    </tr>\n",
       "    <tr>\n",
       "      <th>46</th>\n",
       "      <td>Psychology</td>\n",
       "      <td>35900.0</td>\n",
       "      <td>60400.0</td>\n",
       "      <td>31600.0</td>\n",
       "      <td>127000.0</td>\n",
       "      <td>HASS</td>\n",
       "    </tr>\n",
       "    <tr>\n",
       "      <th>47</th>\n",
       "      <td>Religion</td>\n",
       "      <td>34100.0</td>\n",
       "      <td>52000.0</td>\n",
       "      <td>29700.0</td>\n",
       "      <td>96400.0</td>\n",
       "      <td>HASS</td>\n",
       "    </tr>\n",
       "    <tr>\n",
       "      <th>48</th>\n",
       "      <td>Sociology</td>\n",
       "      <td>36500.0</td>\n",
       "      <td>58200.0</td>\n",
       "      <td>30700.0</td>\n",
       "      <td>118000.0</td>\n",
       "      <td>HASS</td>\n",
       "    </tr>\n",
       "    <tr>\n",
       "      <th>49</th>\n",
       "      <td>Spanish</td>\n",
       "      <td>34000.0</td>\n",
       "      <td>53100.0</td>\n",
       "      <td>31000.0</td>\n",
       "      <td>96400.0</td>\n",
       "      <td>HASS</td>\n",
       "    </tr>\n",
       "  </tbody>\n",
       "</table>\n",
       "</div>"
      ],
      "text/plain": [
       "   Undergraduate Major  Starting Median Salary  Mid-Career Median Salary  \\\n",
       "45   Political Science                 40800.0                   78200.0   \n",
       "46          Psychology                 35900.0                   60400.0   \n",
       "47            Religion                 34100.0                   52000.0   \n",
       "48           Sociology                 36500.0                   58200.0   \n",
       "49             Spanish                 34000.0                   53100.0   \n",
       "\n",
       "    Mid-Career 10th Percentile Salary  Mid-Career 90th Percentile Salary Group  \n",
       "45                            41200.0                           168000.0  HASS  \n",
       "46                            31600.0                           127000.0  HASS  \n",
       "47                            29700.0                            96400.0  HASS  \n",
       "48                            30700.0                           118000.0  HASS  \n",
       "49                            31000.0                            96400.0  HASS  "
      ]
     },
     "execution_count": 10,
     "metadata": {},
     "output_type": "execute_result"
    }
   ],
   "source": [
    "clean_df = df.dropna()\n",
    "clean_df.tail()"
   ]
  },
  {
   "cell_type": "markdown",
   "id": "2440b7ec",
   "metadata": {},
   "source": [
    "## Accessing Columns and Individual Cells in a DF"
   ]
  },
  {
   "cell_type": "markdown",
   "id": "5ac1c303",
   "metadata": {},
   "source": [
    "### College Major with Highest Starting Salaries"
   ]
  },
  {
   "cell_type": "code",
   "execution_count": 34,
   "id": "0bf19e44",
   "metadata": {},
   "outputs": [
    {
     "name": "stdout",
     "output_type": "stream",
     "text": [
      "The highest starting salary is: 74300.0\n"
     ]
    },
    {
     "data": {
      "text/plain": [
       "'College Major with the Max Starting Salary: Physician Assistant'"
      ]
     },
     "execution_count": 34,
     "metadata": {},
     "output_type": "execute_result"
    }
   ],
   "source": [
    "print(f\"The highest starting salary is: {clean_df['Starting Median Salary'].max()}\")\n",
    "f\"College Major with the Max Starting Salary: {clean_df['Undergraduate Major'].loc[clean_df['Starting Median Salary'].idxmax()]}\""
   ]
  },
  {
   "cell_type": "markdown",
   "id": "694916c8",
   "metadata": {},
   "source": [
    "### College Major with Highest Mid-Career Salary"
   ]
  },
  {
   "cell_type": "code",
   "execution_count": 37,
   "id": "ff46ec9d",
   "metadata": {},
   "outputs": [
    {
     "name": "stdout",
     "output_type": "stream",
     "text": [
      "The highest mid-career salary is: 107000.0\n"
     ]
    },
    {
     "data": {
      "text/plain": [
       "'College Major with the Max Mid-Career Salary: Chemical Engineering'"
      ]
     },
     "execution_count": 37,
     "metadata": {},
     "output_type": "execute_result"
    }
   ],
   "source": [
    "print(f\"The highest mid-career salary is: {clean_df['Mid-Career Median Salary'].max()}\")\n",
    "f\"College Major with the Max Mid-Career Salary: {clean_df['Undergraduate Major'].loc[clean_df['Mid-Career Median Salary'].idxmax()]}\""
   ]
  },
  {
   "cell_type": "markdown",
   "id": "8c5913ce",
   "metadata": {},
   "source": [
    "### College Major with Lowest Starting Salary"
   ]
  },
  {
   "cell_type": "code",
   "execution_count": 39,
   "id": "937d54bc",
   "metadata": {},
   "outputs": [
    {
     "name": "stdout",
     "output_type": "stream",
     "text": [
      "The lowest starting salary is: 34000.0\n"
     ]
    },
    {
     "data": {
      "text/plain": [
       "'College Major with the Min Starting Salary: Spanish'"
      ]
     },
     "execution_count": 39,
     "metadata": {},
     "output_type": "execute_result"
    }
   ],
   "source": [
    "print(f\"The lowest starting salary is: {clean_df['Starting Median Salary'].min()}\")\n",
    "f\"College Major with the Min Starting Salary: {clean_df['Undergraduate Major'].loc[clean_df['Starting Median Salary'].idxmin()]}\""
   ]
  },
  {
   "cell_type": "markdown",
   "id": "4c494fb5",
   "metadata": {},
   "source": [
    "### College Major with Lowest Mid-Career Salary"
   ]
  },
  {
   "cell_type": "code",
   "execution_count": 41,
   "id": "7e5908a3",
   "metadata": {},
   "outputs": [
    {
     "name": "stdout",
     "output_type": "stream",
     "text": [
      "The lowest mid-career salary is: 52000.0\n"
     ]
    },
    {
     "data": {
      "text/plain": [
       "'College Major with the Min Mid-Career Salary: Education'"
      ]
     },
     "execution_count": 41,
     "metadata": {},
     "output_type": "execute_result"
    }
   ],
   "source": [
    "print(f\"The lowest mid-career salary is: {clean_df['Mid-Career Median Salary'].min()}\")\n",
    "f\"College Major with the Min Mid-Career Salary: {clean_df['Undergraduate Major'].loc[clean_df['Mid-Career Median Salary'].idxmin()]}\""
   ]
  },
  {
   "cell_type": "markdown",
   "id": "d4df6858",
   "metadata": {},
   "source": [
    "## Sorting Values & Adding Columns"
   ]
  },
  {
   "cell_type": "markdown",
   "id": "19fb41d5",
   "metadata": {},
   "source": [
    "### Majors with the Most Potential vs Lowest Risk"
   ]
  },
  {
   "cell_type": "code",
   "execution_count": 43,
   "id": "5ea50f9f",
   "metadata": {
    "collapsed": true
   },
   "outputs": [
    {
     "data": {
      "text/html": [
       "<div>\n",
       "<style scoped>\n",
       "    .dataframe tbody tr th:only-of-type {\n",
       "        vertical-align: middle;\n",
       "    }\n",
       "\n",
       "    .dataframe tbody tr th {\n",
       "        vertical-align: top;\n",
       "    }\n",
       "\n",
       "    .dataframe thead th {\n",
       "        text-align: right;\n",
       "    }\n",
       "</style>\n",
       "<table border=\"1\" class=\"dataframe\">\n",
       "  <thead>\n",
       "    <tr style=\"text-align: right;\">\n",
       "      <th></th>\n",
       "      <th>Undergraduate Major</th>\n",
       "      <th>Spread</th>\n",
       "      <th>Starting Median Salary</th>\n",
       "      <th>Mid-Career Median Salary</th>\n",
       "      <th>Mid-Career 10th Percentile Salary</th>\n",
       "      <th>Mid-Career 90th Percentile Salary</th>\n",
       "      <th>Group</th>\n",
       "    </tr>\n",
       "  </thead>\n",
       "  <tbody>\n",
       "    <tr>\n",
       "      <th>0</th>\n",
       "      <td>Accounting</td>\n",
       "      <td>109800.0</td>\n",
       "      <td>46000.0</td>\n",
       "      <td>77100.0</td>\n",
       "      <td>42200.0</td>\n",
       "      <td>152000.0</td>\n",
       "      <td>Business</td>\n",
       "    </tr>\n",
       "    <tr>\n",
       "      <th>1</th>\n",
       "      <td>Aerospace Engineering</td>\n",
       "      <td>96700.0</td>\n",
       "      <td>57700.0</td>\n",
       "      <td>101000.0</td>\n",
       "      <td>64300.0</td>\n",
       "      <td>161000.0</td>\n",
       "      <td>STEM</td>\n",
       "    </tr>\n",
       "    <tr>\n",
       "      <th>2</th>\n",
       "      <td>Agriculture</td>\n",
       "      <td>113700.0</td>\n",
       "      <td>42600.0</td>\n",
       "      <td>71900.0</td>\n",
       "      <td>36300.0</td>\n",
       "      <td>150000.0</td>\n",
       "      <td>Business</td>\n",
       "    </tr>\n",
       "    <tr>\n",
       "      <th>3</th>\n",
       "      <td>Anthropology</td>\n",
       "      <td>104200.0</td>\n",
       "      <td>36800.0</td>\n",
       "      <td>61500.0</td>\n",
       "      <td>33800.0</td>\n",
       "      <td>138000.0</td>\n",
       "      <td>HASS</td>\n",
       "    </tr>\n",
       "    <tr>\n",
       "      <th>4</th>\n",
       "      <td>Architecture</td>\n",
       "      <td>85400.0</td>\n",
       "      <td>41600.0</td>\n",
       "      <td>76800.0</td>\n",
       "      <td>50600.0</td>\n",
       "      <td>136000.0</td>\n",
       "      <td>Business</td>\n",
       "    </tr>\n",
       "  </tbody>\n",
       "</table>\n",
       "</div>"
      ],
      "text/plain": [
       "     Undergraduate Major    Spread  Starting Median Salary  \\\n",
       "0             Accounting  109800.0                 46000.0   \n",
       "1  Aerospace Engineering   96700.0                 57700.0   \n",
       "2            Agriculture  113700.0                 42600.0   \n",
       "3           Anthropology  104200.0                 36800.0   \n",
       "4           Architecture   85400.0                 41600.0   \n",
       "\n",
       "   Mid-Career Median Salary  Mid-Career 10th Percentile Salary  \\\n",
       "0                   77100.0                            42200.0   \n",
       "1                  101000.0                            64300.0   \n",
       "2                   71900.0                            36300.0   \n",
       "3                   61500.0                            33800.0   \n",
       "4                   76800.0                            50600.0   \n",
       "\n",
       "   Mid-Career 90th Percentile Salary     Group  \n",
       "0                           152000.0  Business  \n",
       "1                           161000.0      STEM  \n",
       "2                           150000.0  Business  \n",
       "3                           138000.0      HASS  \n",
       "4                           136000.0  Business  "
      ]
     },
     "execution_count": 43,
     "metadata": {},
     "output_type": "execute_result"
    }
   ],
   "source": [
    "spread_col = clean_df['Mid-Career 90th Percentile Salary'] - clean_df['Mid-Career 10th Percentile Salary']\n",
    "clean_df.insert(1, 'Spread', spread_col)\n",
    "clean_df.head()"
   ]
  },
  {
   "cell_type": "code",
   "execution_count": 52,
   "id": "47ab8612",
   "metadata": {
    "collapsed": true
   },
   "outputs": [
    {
     "data": {
      "text/html": [
       "<div>\n",
       "<style scoped>\n",
       "    .dataframe tbody tr th:only-of-type {\n",
       "        vertical-align: middle;\n",
       "    }\n",
       "\n",
       "    .dataframe tbody tr th {\n",
       "        vertical-align: top;\n",
       "    }\n",
       "\n",
       "    .dataframe thead th {\n",
       "        text-align: right;\n",
       "    }\n",
       "</style>\n",
       "<table border=\"1\" class=\"dataframe\">\n",
       "  <thead>\n",
       "    <tr style=\"text-align: right;\">\n",
       "      <th></th>\n",
       "      <th>Undergraduate Major</th>\n",
       "      <th>Spread</th>\n",
       "    </tr>\n",
       "  </thead>\n",
       "  <tbody>\n",
       "    <tr>\n",
       "      <th>40</th>\n",
       "      <td>Nursing</td>\n",
       "      <td>50700.0</td>\n",
       "    </tr>\n",
       "    <tr>\n",
       "      <th>43</th>\n",
       "      <td>Physician Assistant</td>\n",
       "      <td>57600.0</td>\n",
       "    </tr>\n",
       "    <tr>\n",
       "      <th>41</th>\n",
       "      <td>Nutrition</td>\n",
       "      <td>65300.0</td>\n",
       "    </tr>\n",
       "    <tr>\n",
       "      <th>49</th>\n",
       "      <td>Spanish</td>\n",
       "      <td>65400.0</td>\n",
       "    </tr>\n",
       "    <tr>\n",
       "      <th>27</th>\n",
       "      <td>Health Care Administration</td>\n",
       "      <td>66400.0</td>\n",
       "    </tr>\n",
       "  </tbody>\n",
       "</table>\n",
       "</div>"
      ],
      "text/plain": [
       "           Undergraduate Major   Spread\n",
       "40                     Nursing  50700.0\n",
       "43         Physician Assistant  57600.0\n",
       "41                   Nutrition  65300.0\n",
       "49                     Spanish  65400.0\n",
       "27  Health Care Administration  66400.0"
      ]
     },
     "execution_count": 52,
     "metadata": {},
     "output_type": "execute_result"
    }
   ],
   "source": [
    "low_risk = clean_df.sort_values('Spread')\n",
    "low_risk[['Undergraduate Major', 'Spread']].head()"
   ]
  },
  {
   "cell_type": "code",
   "execution_count": 58,
   "id": "702ddd5e",
   "metadata": {
    "collapsed": true
   },
   "outputs": [
    {
     "data": {
      "text/html": [
       "<div>\n",
       "<style scoped>\n",
       "    .dataframe tbody tr th:only-of-type {\n",
       "        vertical-align: middle;\n",
       "    }\n",
       "\n",
       "    .dataframe tbody tr th {\n",
       "        vertical-align: top;\n",
       "    }\n",
       "\n",
       "    .dataframe thead th {\n",
       "        text-align: right;\n",
       "    }\n",
       "</style>\n",
       "<table border=\"1\" class=\"dataframe\">\n",
       "  <thead>\n",
       "    <tr style=\"text-align: right;\">\n",
       "      <th></th>\n",
       "      <th>Undergraduate Major</th>\n",
       "      <th>Spread</th>\n",
       "    </tr>\n",
       "  </thead>\n",
       "  <tbody>\n",
       "    <tr>\n",
       "      <th>17</th>\n",
       "      <td>Economics</td>\n",
       "      <td>159400.0</td>\n",
       "    </tr>\n",
       "    <tr>\n",
       "      <th>22</th>\n",
       "      <td>Finance</td>\n",
       "      <td>147800.0</td>\n",
       "    </tr>\n",
       "    <tr>\n",
       "      <th>37</th>\n",
       "      <td>Math</td>\n",
       "      <td>137800.0</td>\n",
       "    </tr>\n",
       "    <tr>\n",
       "      <th>36</th>\n",
       "      <td>Marketing</td>\n",
       "      <td>132900.0</td>\n",
       "    </tr>\n",
       "    <tr>\n",
       "      <th>42</th>\n",
       "      <td>Philosophy</td>\n",
       "      <td>132500.0</td>\n",
       "    </tr>\n",
       "  </tbody>\n",
       "</table>\n",
       "</div>"
      ],
      "text/plain": [
       "   Undergraduate Major    Spread\n",
       "17           Economics  159400.0\n",
       "22             Finance  147800.0\n",
       "37                Math  137800.0\n",
       "36           Marketing  132900.0\n",
       "42          Philosophy  132500.0"
      ]
     },
     "execution_count": 58,
     "metadata": {},
     "output_type": "execute_result"
    }
   ],
   "source": [
    "high_risk = clean_df.sort_values('Spread', ascending = False)\n",
    "high_risk[['Undergraduate Major', 'Spread']].head()"
   ]
  },
  {
   "cell_type": "code",
   "execution_count": 57,
   "id": "a14e3caf",
   "metadata": {
    "collapsed": true
   },
   "outputs": [
    {
     "data": {
      "text/html": [
       "<div>\n",
       "<style scoped>\n",
       "    .dataframe tbody tr th:only-of-type {\n",
       "        vertical-align: middle;\n",
       "    }\n",
       "\n",
       "    .dataframe tbody tr th {\n",
       "        vertical-align: top;\n",
       "    }\n",
       "\n",
       "    .dataframe thead th {\n",
       "        text-align: right;\n",
       "    }\n",
       "</style>\n",
       "<table border=\"1\" class=\"dataframe\">\n",
       "  <thead>\n",
       "    <tr style=\"text-align: right;\">\n",
       "      <th></th>\n",
       "      <th>Undergraduate Major</th>\n",
       "      <th>Mid-Career 90th Percentile Salary</th>\n",
       "    </tr>\n",
       "  </thead>\n",
       "  <tbody>\n",
       "    <tr>\n",
       "      <th>49</th>\n",
       "      <td>Spanish</td>\n",
       "      <td>96400.0</td>\n",
       "    </tr>\n",
       "    <tr>\n",
       "      <th>47</th>\n",
       "      <td>Religion</td>\n",
       "      <td>96400.0</td>\n",
       "    </tr>\n",
       "    <tr>\n",
       "      <th>40</th>\n",
       "      <td>Nursing</td>\n",
       "      <td>98300.0</td>\n",
       "    </tr>\n",
       "    <tr>\n",
       "      <th>41</th>\n",
       "      <td>Nutrition</td>\n",
       "      <td>99200.0</td>\n",
       "    </tr>\n",
       "    <tr>\n",
       "      <th>27</th>\n",
       "      <td>Health Care Administration</td>\n",
       "      <td>101000.0</td>\n",
       "    </tr>\n",
       "  </tbody>\n",
       "</table>\n",
       "</div>"
      ],
      "text/plain": [
       "           Undergraduate Major  Mid-Career 90th Percentile Salary\n",
       "49                     Spanish                            96400.0\n",
       "47                    Religion                            96400.0\n",
       "40                     Nursing                            98300.0\n",
       "41                   Nutrition                            99200.0\n",
       "27  Health Care Administration                           101000.0"
      ]
     },
     "execution_count": 57,
     "metadata": {},
     "output_type": "execute_result"
    }
   ],
   "source": [
    "highest_potential = clean_df.sort_values('Mid-Career 90th Percentile Salary')\n",
    "highest_potential[['Undergraduate Major', 'Mid-Career 90th Percentile Salary']].head()"
   ]
  },
  {
   "cell_type": "markdown",
   "id": "661910f3",
   "metadata": {},
   "source": [
    "## Grouping and Pivoting Data"
   ]
  },
  {
   "cell_type": "code",
   "execution_count": 59,
   "id": "b9fb7788",
   "metadata": {
    "collapsed": true
   },
   "outputs": [
    {
     "data": {
      "text/html": [
       "<div>\n",
       "<style scoped>\n",
       "    .dataframe tbody tr th:only-of-type {\n",
       "        vertical-align: middle;\n",
       "    }\n",
       "\n",
       "    .dataframe tbody tr th {\n",
       "        vertical-align: top;\n",
       "    }\n",
       "\n",
       "    .dataframe thead th {\n",
       "        text-align: right;\n",
       "    }\n",
       "</style>\n",
       "<table border=\"1\" class=\"dataframe\">\n",
       "  <thead>\n",
       "    <tr style=\"text-align: right;\">\n",
       "      <th></th>\n",
       "      <th>Undergraduate Major</th>\n",
       "      <th>Spread</th>\n",
       "      <th>Starting Median Salary</th>\n",
       "      <th>Mid-Career Median Salary</th>\n",
       "      <th>Mid-Career 10th Percentile Salary</th>\n",
       "      <th>Mid-Career 90th Percentile Salary</th>\n",
       "    </tr>\n",
       "    <tr>\n",
       "      <th>Group</th>\n",
       "      <th></th>\n",
       "      <th></th>\n",
       "      <th></th>\n",
       "      <th></th>\n",
       "      <th></th>\n",
       "      <th></th>\n",
       "    </tr>\n",
       "  </thead>\n",
       "  <tbody>\n",
       "    <tr>\n",
       "      <th>Business</th>\n",
       "      <td>12</td>\n",
       "      <td>12</td>\n",
       "      <td>12</td>\n",
       "      <td>12</td>\n",
       "      <td>12</td>\n",
       "      <td>12</td>\n",
       "    </tr>\n",
       "    <tr>\n",
       "      <th>HASS</th>\n",
       "      <td>22</td>\n",
       "      <td>22</td>\n",
       "      <td>22</td>\n",
       "      <td>22</td>\n",
       "      <td>22</td>\n",
       "      <td>22</td>\n",
       "    </tr>\n",
       "    <tr>\n",
       "      <th>STEM</th>\n",
       "      <td>16</td>\n",
       "      <td>16</td>\n",
       "      <td>16</td>\n",
       "      <td>16</td>\n",
       "      <td>16</td>\n",
       "      <td>16</td>\n",
       "    </tr>\n",
       "  </tbody>\n",
       "</table>\n",
       "</div>"
      ],
      "text/plain": [
       "          Undergraduate Major  Spread  Starting Median Salary  \\\n",
       "Group                                                           \n",
       "Business                   12      12                      12   \n",
       "HASS                       22      22                      22   \n",
       "STEM                       16      16                      16   \n",
       "\n",
       "          Mid-Career Median Salary  Mid-Career 10th Percentile Salary  \\\n",
       "Group                                                                   \n",
       "Business                        12                                 12   \n",
       "HASS                            22                                 22   \n",
       "STEM                            16                                 16   \n",
       "\n",
       "          Mid-Career 90th Percentile Salary  \n",
       "Group                                        \n",
       "Business                                 12  \n",
       "HASS                                     22  \n",
       "STEM                                     16  "
      ]
     },
     "execution_count": 59,
     "metadata": {},
     "output_type": "execute_result"
    }
   ],
   "source": [
    "clean_df.groupby('Group').count()"
   ]
  },
  {
   "cell_type": "code",
   "execution_count": 70,
   "id": "71fd61eb",
   "metadata": {
    "scrolled": true
   },
   "outputs": [
    {
     "data": {
      "text/html": [
       "<div>\n",
       "<style scoped>\n",
       "    .dataframe tbody tr th:only-of-type {\n",
       "        vertical-align: middle;\n",
       "    }\n",
       "\n",
       "    .dataframe tbody tr th {\n",
       "        vertical-align: top;\n",
       "    }\n",
       "\n",
       "    .dataframe thead th {\n",
       "        text-align: right;\n",
       "    }\n",
       "</style>\n",
       "<table border=\"1\" class=\"dataframe\">\n",
       "  <thead>\n",
       "    <tr style=\"text-align: right;\">\n",
       "      <th></th>\n",
       "      <th>Spread</th>\n",
       "      <th>Starting Median Salary</th>\n",
       "      <th>Mid-Career Median Salary</th>\n",
       "      <th>Mid-Career 10th Percentile Salary</th>\n",
       "      <th>Mid-Career 90th Percentile Salary</th>\n",
       "    </tr>\n",
       "    <tr>\n",
       "      <th>Group</th>\n",
       "      <th></th>\n",
       "      <th></th>\n",
       "      <th></th>\n",
       "      <th></th>\n",
       "      <th></th>\n",
       "    </tr>\n",
       "  </thead>\n",
       "  <tbody>\n",
       "    <tr>\n",
       "      <th>Business</th>\n",
       "      <td>103,958.33</td>\n",
       "      <td>44,633.33</td>\n",
       "      <td>75,083.33</td>\n",
       "      <td>43,566.67</td>\n",
       "      <td>147,525.00</td>\n",
       "    </tr>\n",
       "    <tr>\n",
       "      <th>HASS</th>\n",
       "      <td>95,218.18</td>\n",
       "      <td>37,186.36</td>\n",
       "      <td>62,968.18</td>\n",
       "      <td>34,145.45</td>\n",
       "      <td>129,363.64</td>\n",
       "    </tr>\n",
       "    <tr>\n",
       "      <th>STEM</th>\n",
       "      <td>101,600.00</td>\n",
       "      <td>53,862.50</td>\n",
       "      <td>90,812.50</td>\n",
       "      <td>56,025.00</td>\n",
       "      <td>157,625.00</td>\n",
       "    </tr>\n",
       "  </tbody>\n",
       "</table>\n",
       "</div>"
      ],
      "text/plain": [
       "             Spread  Starting Median Salary  Mid-Career Median Salary  \\\n",
       "Group                                                                   \n",
       "Business 103,958.33               44,633.33                 75,083.33   \n",
       "HASS      95,218.18               37,186.36                 62,968.18   \n",
       "STEM     101,600.00               53,862.50                 90,812.50   \n",
       "\n",
       "          Mid-Career 10th Percentile Salary  Mid-Career 90th Percentile Salary  \n",
       "Group                                                                           \n",
       "Business                          43,566.67                         147,525.00  \n",
       "HASS                              34,145.45                         129,363.64  \n",
       "STEM                              56,025.00                         157,625.00  "
      ]
     },
     "execution_count": 70,
     "metadata": {},
     "output_type": "execute_result"
    }
   ],
   "source": [
    "#Average Salary by Group\n",
    "pd.options.display.float_format = '{:,.2f}'.format\n",
    "clean_df.groupby('Group').mean(numeric_only=True)"
   ]
  },
  {
   "cell_type": "markdown",
   "id": "395d3537",
   "metadata": {},
   "source": [
    "### Extra Credit ###\n",
    "The PayScale dataset used in this lesson was from 2008 and looked at the prior 10 years. Notice how Finance ranked very high on post-degree earnings at the time. However, we all know there was a massive financial crash in that year. Perhaps things have changed."
   ]
  },
  {
   "cell_type": "code",
   "execution_count": 5,
   "id": "b93a7eb5",
   "metadata": {},
   "outputs": [],
   "source": [
    "from bs4 import BeautifulSoup\n",
    "import requests"
   ]
  },
  {
   "cell_type": "code",
   "execution_count": 138,
   "id": "6a9c22c2",
   "metadata": {},
   "outputs": [],
   "source": [
    "degree = []\n",
    "start_salary = []\n",
    "mid_salary = []"
   ]
  },
  {
   "cell_type": "code",
   "execution_count": 139,
   "id": "108b06de",
   "metadata": {},
   "outputs": [],
   "source": [
    "for page_num in range(1, 34):\n",
    "    response = requests.get(f\"https://www.payscale.com/college-salary-report/majors-that-pay-you-back/bachelors/page/{page_num}\")\n",
    "    payscale_page = response.text\n",
    "    soup = BeautifulSoup(payscale_page, 'html.parser')\n",
    "    all_data = soup.find_all(class_=\"data-table__row\")\n",
    "    for data in all_data:\n",
    "        split_data = data.text.split(\":\")\n",
    "        degree.append(split_data[2].split('Degree')[0])\n",
    "        start_salary.append(float(split_data[4].split('Mid')[0].split('$')[1].replace(\",\", \"\")))\n",
    "        mid_salary.append(float(split_data[5].split('%')[0].split('$')[1].replace(\",\", \"\")))"
   ]
  },
  {
   "cell_type": "code",
   "execution_count": 140,
   "id": "79b71133",
   "metadata": {},
   "outputs": [],
   "source": [
    "data_dict = {\n",
    "    'Major': degree,\n",
    "    'Starting Salary': start_salary,\n",
    "    'Mid-Career Salary': mid_salary,\n",
    "}"
   ]
  },
  {
   "cell_type": "code",
   "execution_count": 179,
   "id": "60235437",
   "metadata": {
    "scrolled": true
   },
   "outputs": [],
   "source": [
    "updated_salaries = pd.DataFrame(data_dict)"
   ]
  },
  {
   "cell_type": "code",
   "execution_count": 180,
   "id": "4ed3a2b7",
   "metadata": {
    "collapsed": true
   },
   "outputs": [
    {
     "data": {
      "text/html": [
       "<div>\n",
       "<style scoped>\n",
       "    .dataframe tbody tr th:only-of-type {\n",
       "        vertical-align: middle;\n",
       "    }\n",
       "\n",
       "    .dataframe tbody tr th {\n",
       "        vertical-align: top;\n",
       "    }\n",
       "\n",
       "    .dataframe thead th {\n",
       "        text-align: right;\n",
       "    }\n",
       "</style>\n",
       "<table border=\"1\" class=\"dataframe\">\n",
       "  <thead>\n",
       "    <tr style=\"text-align: right;\">\n",
       "      <th></th>\n",
       "      <th>Major</th>\n",
       "      <th>Starting Salary</th>\n",
       "      <th>Mid-Career Salary</th>\n",
       "    </tr>\n",
       "  </thead>\n",
       "  <tbody>\n",
       "    <tr>\n",
       "      <th>0</th>\n",
       "      <td>Petroleum Engineering</td>\n",
       "      <td>93,200.00</td>\n",
       "      <td>187,300.00</td>\n",
       "    </tr>\n",
       "    <tr>\n",
       "      <th>1</th>\n",
       "      <td>Operations Research &amp; Industrial Engineering</td>\n",
       "      <td>84,800.00</td>\n",
       "      <td>170,400.00</td>\n",
       "    </tr>\n",
       "    <tr>\n",
       "      <th>2</th>\n",
       "      <td>Electrical Engineering &amp; Computer Science (EECS)</td>\n",
       "      <td>108,500.00</td>\n",
       "      <td>159,300.00</td>\n",
       "    </tr>\n",
       "    <tr>\n",
       "      <th>3</th>\n",
       "      <td>Interaction Design</td>\n",
       "      <td>68,300.00</td>\n",
       "      <td>155,800.00</td>\n",
       "    </tr>\n",
       "    <tr>\n",
       "      <th>4</th>\n",
       "      <td>Public Accounting</td>\n",
       "      <td>59,800.00</td>\n",
       "      <td>147,700.00</td>\n",
       "    </tr>\n",
       "    <tr>\n",
       "      <th>...</th>\n",
       "      <td>...</td>\n",
       "      <td>...</td>\n",
       "      <td>...</td>\n",
       "    </tr>\n",
       "    <tr>\n",
       "      <th>820</th>\n",
       "      <td>Child &amp; Family Studies</td>\n",
       "      <td>36,400.00</td>\n",
       "      <td>46,500.00</td>\n",
       "    </tr>\n",
       "    <tr>\n",
       "      <th>821</th>\n",
       "      <td>Rehabilitation Counseling</td>\n",
       "      <td>39,200.00</td>\n",
       "      <td>46,400.00</td>\n",
       "    </tr>\n",
       "    <tr>\n",
       "      <th>822</th>\n",
       "      <td>Outdoor Education</td>\n",
       "      <td>37,400.00</td>\n",
       "      <td>46,300.00</td>\n",
       "    </tr>\n",
       "    <tr>\n",
       "      <th>823</th>\n",
       "      <td>Early Childhood Education</td>\n",
       "      <td>36,100.00</td>\n",
       "      <td>45,400.00</td>\n",
       "    </tr>\n",
       "    <tr>\n",
       "      <th>824</th>\n",
       "      <td>Mental Health</td>\n",
       "      <td>36,900.00</td>\n",
       "      <td>45,000.00</td>\n",
       "    </tr>\n",
       "  </tbody>\n",
       "</table>\n",
       "<p>825 rows × 3 columns</p>\n",
       "</div>"
      ],
      "text/plain": [
       "                                                Major  Starting Salary  \\\n",
       "0                               Petroleum Engineering        93,200.00   \n",
       "1        Operations Research & Industrial Engineering        84,800.00   \n",
       "2    Electrical Engineering & Computer Science (EECS)       108,500.00   \n",
       "3                                  Interaction Design        68,300.00   \n",
       "4                                   Public Accounting        59,800.00   \n",
       "..                                                ...              ...   \n",
       "820                            Child & Family Studies        36,400.00   \n",
       "821                         Rehabilitation Counseling        39,200.00   \n",
       "822                                 Outdoor Education        37,400.00   \n",
       "823                         Early Childhood Education        36,100.00   \n",
       "824                                     Mental Health        36,900.00   \n",
       "\n",
       "     Mid-Career Salary  \n",
       "0           187,300.00  \n",
       "1           170,400.00  \n",
       "2           159,300.00  \n",
       "3           155,800.00  \n",
       "4           147,700.00  \n",
       "..                 ...  \n",
       "820          46,500.00  \n",
       "821          46,400.00  \n",
       "822          46,300.00  \n",
       "823          45,400.00  \n",
       "824          45,000.00  \n",
       "\n",
       "[825 rows x 3 columns]"
      ]
     },
     "execution_count": 180,
     "metadata": {},
     "output_type": "execute_result"
    }
   ],
   "source": [
    "updated_salaries"
   ]
  },
  {
   "cell_type": "code",
   "execution_count": null,
   "id": "b0d0fb9c",
   "metadata": {},
   "outputs": [],
   "source": []
  }
 ],
 "metadata": {
  "kernelspec": {
   "display_name": "Python 3 (ipykernel)",
   "language": "python",
   "name": "python3"
  },
  "language_info": {
   "codemirror_mode": {
    "name": "ipython",
    "version": 3
   },
   "file_extension": ".py",
   "mimetype": "text/x-python",
   "name": "python",
   "nbconvert_exporter": "python",
   "pygments_lexer": "ipython3",
   "version": "3.11.3"
  }
 },
 "nbformat": 4,
 "nbformat_minor": 5
}
